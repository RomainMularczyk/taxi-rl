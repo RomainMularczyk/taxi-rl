{
 "cells": [
  {
   "cell_type": "code",
   "execution_count": 1,
   "id": "c658090f-9d47-4e4b-a553-e7d3d0fb1529",
   "metadata": {},
   "outputs": [
    {
     "name": "stdout",
     "output_type": "stream",
     "text": [
      "/Users/romainm/Desktop/SciencesPo/Doctorat/Epitech/AIA-902/src\n"
     ]
    },
    {
     "name": "stderr",
     "output_type": "stream",
     "text": [
      "2024-07-10 18:18:22 [INFO] Logger initialized with level INFO.\n"
     ]
    }
   ],
   "source": [
    "import os; os.chdir(\"../../..\")\n",
    "print(os.getcwd())\n",
    "import gymnasium as gym\n",
    "import numpy as np\n",
    "import matplotlib.pyplot as plt\n",
    "from tqdm import tqdm\n",
    "from lib.evals.models.metrics import aggregate_metrics, graph_training_evolution\n",
    "from lib.policies.MonteCarloPolicy import MonteCarloPolicy"
   ]
  },
  {
   "cell_type": "code",
   "execution_count": 2,
   "id": "79027e60-4a55-465b-a0e6-9fec0b188d7c",
   "metadata": {},
   "outputs": [
    {
     "name": "stderr",
     "output_type": "stream",
     "text": [
      "2441406it [00:40, 210373.20it/s]                                                         "
     ]
    }
   ],
   "source": [
    "env = gym.make(\"Taxi-v3\", render_mode=\"ansi\")\n",
    "policy = MonteCarloPolicy(\n",
    "    game_env=env,\n",
    "    depth=9,\n",
    ")"
   ]
  },
  {
   "cell_type": "code",
   "execution_count": 3,
   "id": "26fb0a82-d55e-4bbb-804f-e902aff44eec",
   "metadata": {},
   "outputs": [
    {
     "name": "stdout",
     "output_type": "stream",
     "text": [
      "+---------+\n",
      "|R: | : :\u001b[34;1mG\u001b[0m|\n",
      "| : | : : |\n",
      "| : : : :\u001b[43m \u001b[0m|\n",
      "| | : | : |\n",
      "|\u001b[35mY\u001b[0m| : |B: |\n",
      "+---------+\n",
      "\n",
      "\n"
     ]
    }
   ],
   "source": [
    "print(policy.game_env.render())"
   ]
  },
  {
   "cell_type": "code",
   "execution_count": 4,
   "id": "b534e01d-b69f-46fc-bb83-b4fc9084a395",
   "metadata": {},
   "outputs": [
    {
     "name": "stderr",
     "output_type": "stream",
     "text": [
      "\n",
      "  0%|                                                              | 0/9 [00:00<?, ?it/s]\u001b[A\n",
      "15360it [00:00, 153598.68it/s]                                                           \u001b[A\n",
      "30720it [00:00, 124597.06it/s]\u001b[A\n",
      "43519it [00:00, 105730.96it/s]\u001b[A\n",
      "54443it [00:00, 102358.54it/s]\u001b[A\n",
      "64854it [00:00, 102074.85it/s]\u001b[A\n",
      "75170it [00:00, 100825.23it/s]\u001b[A\n",
      "85314it [00:00, 75436.08it/s] \u001b[A\n",
      "93699it [00:01, 53414.08it/s]\u001b[A\n",
      "103377it [00:01, 60297.37it/s]\u001b[A\n",
      "110633it [00:01, 57436.99it/s]\u001b[A\n",
      "122950it [00:01, 71520.60it/s]\u001b[A\n",
      "139579it [00:01, 93816.58it/s]\u001b[A\n",
      "159509it [00:01, 120389.14it/s]\u001b[A\n",
      "179409it [00:01, 141191.72it/s]\u001b[A\n",
      "194894it [00:05, 14872.25it/s] \u001b[A\n",
      "214520it [00:05, 21884.67it/s]\u001b[A\n",
      "235020it [00:05, 31468.52it/s]\u001b[A\n",
      "256065it [00:05, 43919.66it/s]\u001b[A\n",
      "277672it [00:05, 59481.56it/s]\u001b[A\n",
      "296247it [00:05, 72861.82it/s]\u001b[A\n",
      "314192it [00:05, 85684.14it/s]\u001b[A\n",
      "331374it [00:05, 89758.21it/s]\u001b[A\n",
      "347638it [00:06, 102346.57it/s]\u001b[A\n",
      "363084it [00:06, 111434.99it/s]\u001b[A\n",
      "378286it [00:06, 110391.71it/s]\u001b[A\n",
      "392160it [00:06, 103397.01it/s]\u001b[A\n",
      "404574it [00:06, 107956.98it/s]\u001b[A\n",
      "422243it [00:06, 124385.59it/s]\u001b[A\n",
      "439037it [00:06, 135433.17it/s]\u001b[A\n",
      "453841it [00:06, 127811.60it/s]\u001b[A\n",
      "467563it [00:07, 124009.61it/s]\u001b[A\n",
      "484944it [00:07, 137006.25it/s]\u001b[A\n",
      "503275it [00:07, 149580.25it/s]\u001b[A\n",
      "518820it [00:07, 142071.98it/s]\u001b[A\n",
      "533492it [00:09, 25795.85it/s] \u001b[A\n",
      "546204it [00:09, 32436.64it/s]\u001b[A\n",
      "560907it [00:09, 42247.12it/s]\u001b[A\n",
      "576094it [00:09, 53990.66it/s]\u001b[A\n",
      "589063it [00:09, 63892.99it/s]\u001b[A\n",
      "608482it [00:09, 84791.62it/s]\u001b[A\n",
      "623811it [00:09, 97560.44it/s]\u001b[A\n",
      "638786it [00:09, 104984.55it/s]\u001b[A\n",
      "653139it [00:10, 70353.41it/s] \u001b[A\n",
      "664339it [00:10, 60959.00it/s]\u001b[A\n",
      "673578it [00:10, 65883.52it/s]\u001b[A\n",
      "682731it [00:10, 69364.39it/s]\u001b[A\n",
      "697851it [00:10, 86142.49it/s]\u001b[A\n",
      "712495it [00:10, 99801.31it/s]\u001b[A\n",
      "724430it [00:11, 97290.54it/s]\u001b[A\n",
      "738877it [00:11, 107799.44it/s]\u001b[A\n",
      "754347it [00:11, 118856.64it/s]\u001b[A\n",
      "769037it [00:11, 126193.44it/s]\u001b[A\n",
      "782538it [00:11, 128626.85it/s]\u001b[A\n",
      "795953it [00:11, 125153.10it/s]\u001b[A\n",
      "809229it [00:11, 127103.85it/s]\u001b[A\n",
      "823007it [00:11, 130122.29it/s]\u001b[A\n",
      "836239it [00:11, 130445.13it/s]\u001b[A\n",
      "852177it [00:11, 138894.39it/s]\u001b[A\n",
      "868068it [00:12, 144785.57it/s]\u001b[A\n",
      "882650it [00:12, 107454.04it/s]\u001b[A\n",
      "894861it [00:12, 110212.62it/s]\u001b[A\n",
      "906973it [00:12, 110578.61it/s]\u001b[A\n",
      "918798it [00:12, 84454.22it/s] \u001b[A\n",
      "928635it [00:12, 81346.66it/s]\u001b[A\n",
      "938171it [00:12, 84499.91it/s]\u001b[A\n",
      "948394it [00:13, 88802.37it/s]\u001b[A\n",
      "958358it [00:13, 91596.81it/s]\u001b[A\n",
      "968009it [00:15, 13513.98it/s]\u001b[A\n",
      "974892it [00:15, 16370.70it/s]\u001b[A\n",
      "983085it [00:15, 20964.00it/s]\u001b[A\n",
      "992064it [00:15, 27226.03it/s]\u001b[A\n",
      "1007548it [00:15, 41904.78it/s]\u001b[A\n",
      "1026144it [00:15, 62235.46it/s]\u001b[A\n",
      "1044036it [00:16, 81813.37it/s]\u001b[A\n",
      "1058229it [00:16, 89175.89it/s]\u001b[A\n",
      "1071578it [00:16, 98365.56it/s]\u001b[A\n",
      "1084917it [00:16, 102498.23it/s]\u001b[A\n",
      "1097686it [00:16, 87459.26it/s] \u001b[A\n",
      "1108536it [00:16, 83187.13it/s]\u001b[A\n",
      "1118315it [00:16, 82409.50it/s]\u001b[A\n",
      "1127564it [00:16, 83972.10it/s]\u001b[A\n",
      "1136709it [00:17, 81879.62it/s]\u001b[A\n",
      "1146426it [00:17, 85678.08it/s]\u001b[A\n",
      "1159220it [00:17, 96813.99it/s]\u001b[A\n",
      "1173925it [00:17, 110552.67it/s]\u001b[A\n",
      "1187938it [00:17, 118569.13it/s]\u001b[A\n",
      "1201019it [00:17, 122068.04it/s]\u001b[A\n",
      "1213499it [00:17, 106300.92it/s]\u001b[A\n",
      "1224671it [00:17, 99736.79it/s] \u001b[A\n",
      "1235062it [00:18, 67801.97it/s]\u001b[A\n",
      "1243418it [00:18, 70073.14it/s]\u001b[A\n",
      "1258705it [00:18, 88230.15it/s]\u001b[A\n",
      "1278484it [00:18, 114365.55it/s]\u001b[A\n",
      "1295107it [00:18, 127547.25it/s]\u001b[A\n",
      "1310679it [00:18, 135051.08it/s]\u001b[A\n",
      "1328606it [00:18, 147059.35it/s]\u001b[A\n",
      "1349781it [00:18, 165319.50it/s]\u001b[A\n",
      "1367167it [00:18, 167761.41it/s]\u001b[A\n",
      "1386294it [00:19, 174600.50it/s]\u001b[A\n",
      "1404140it [00:19, 174658.43it/s]\u001b[A\n",
      "1421876it [00:19, 149024.17it/s]\u001b[A\n",
      "1437612it [00:19, 129778.19it/s]\u001b[A\n",
      "1451527it [00:19, 126144.25it/s]\u001b[A\n",
      "1464769it [00:19, 117963.20it/s]\u001b[A\n",
      "1477023it [00:19, 110190.45it/s]\u001b[A\n",
      "1489632it [00:19, 112884.58it/s]\u001b[A\n",
      "1501200it [00:20, 108356.78it/s]\u001b[A\n",
      "1512220it [00:22, 14517.37it/s] \u001b[A\n",
      "1528542it [00:22, 21549.87it/s]\u001b[A\n",
      "1546684it [00:22, 31667.21it/s]\u001b[A\n",
      "1562607it [00:22, 42243.49it/s]\u001b[A\n",
      "1581189it [00:23, 57448.28it/s]\u001b[A\n",
      "1599325it [00:23, 73731.10it/s]\u001b[A\n",
      "1615843it [00:23, 88184.33it/s]\u001b[A\n",
      "1634136it [00:23, 105636.22it/s]\u001b[A\n",
      "1651376it [00:23, 119544.36it/s]\u001b[A\n",
      "1668400it [00:23, 131171.21it/s]\u001b[A\n",
      "1685369it [00:23, 138927.06it/s]\u001b[A\n",
      "1702091it [00:23, 119397.37it/s]\u001b[A\n",
      "1716479it [00:24, 107561.44it/s]\u001b[A\n",
      "1734336it [00:24, 123285.18it/s]\u001b[A\n",
      "1751185it [00:24, 134147.74it/s]\u001b[A\n",
      "1766301it [00:24, 138494.15it/s]\u001b[A\n",
      "1781323it [00:24, 134866.37it/s]\u001b[A\n",
      "1795634it [00:24, 125996.17it/s]\u001b[A\n",
      "1808881it [00:24, 120678.34it/s]\u001b[A\n",
      "1821402it [00:24, 117562.76it/s]\u001b[A\n",
      "1833460it [00:24, 109797.17it/s]\u001b[A\n",
      "1844692it [00:25, 108821.05it/s]\u001b[A\n",
      "1855784it [00:25, 109380.78it/s]\u001b[A\n",
      "1866845it [00:25, 101700.15it/s]\u001b[A\n",
      "1877169it [00:25, 101244.81it/s]\u001b[A\n",
      "1887758it [00:25, 102521.89it/s]\u001b[A\n",
      "1898425it [00:25, 103689.05it/s]\u001b[A\n",
      "1908861it [00:25, 95696.55it/s] \u001b[A\n",
      "1918578it [00:25, 95238.23it/s]\u001b[A\n",
      "1929489it [00:25, 99117.79it/s]\u001b[A\n",
      "1942080it [00:25, 106766.37it/s]\u001b[A\n",
      "1953188it [00:26, 107986.63it/s]\u001b[A\n",
      "1964653it [00:26, 109936.64it/s]\u001b[A\n",
      "1976505it [00:26, 112466.81it/s]\u001b[A\n",
      "1987799it [00:26, 106227.80it/s]\u001b[A\n",
      "2002622it [00:26, 116598.92it/s]\u001b[A\n",
      "2014369it [00:26, 108410.28it/s]\u001b[A\n",
      "2027911it [00:26, 115807.17it/s]\u001b[A\n",
      "2042440it [00:26, 124129.26it/s]\u001b[A\n",
      "2059270it [00:26, 136822.29it/s]\u001b[A\n",
      "2074405it [00:27, 141021.49it/s]\u001b[A\n",
      "2091439it [00:27, 149622.17it/s]\u001b[A\n",
      "2106516it [00:27, 144717.52it/s]\u001b[A\n",
      "2123609it [00:27, 152303.89it/s]\u001b[A\n",
      "2140174it [00:27, 156207.29it/s]\u001b[A\n",
      "2157964it [00:27, 158486.14it/s]\u001b[A\n",
      "2173862it [00:27, 145325.12it/s]\u001b[A\n",
      "2188619it [00:31, 13864.50it/s] \u001b[A\n",
      "2204690it [00:31, 19162.43it/s]\u001b[A\n",
      "2217204it [00:31, 24356.79it/s]\u001b[A\n",
      "2232001it [00:31, 32445.81it/s]\u001b[A\n",
      "2246219it [00:31, 41826.95it/s]\u001b[A\n",
      "2264228it [00:31, 56874.59it/s]\u001b[A\n",
      "2282265it [00:31, 73490.65it/s]\u001b[A\n",
      "2301270it [00:31, 92283.37it/s]\u001b[A\n",
      "2317994it [00:32, 105926.33it/s]\u001b[A\n",
      "2334622it [00:32, 117854.73it/s]\u001b[A\n",
      "2351100it [00:32, 128293.88it/s]\u001b[A\n",
      "2367520it [00:32, 136621.48it/s]\u001b[A\n",
      "2383863it [00:32, 132946.26it/s]\u001b[A\n",
      "2399052it [00:32, 130927.86it/s]\u001b[A\n",
      "2413466it [00:32, 130685.99it/s]\u001b[A\n",
      "2427458it [00:32, 131628.24it/s]\u001b[A\n",
      "2441406it [00:45, 131628.24it/s]\u001b[A"
     ]
    }
   ],
   "source": [
    "policy.train()"
   ]
  },
  {
   "cell_type": "code",
   "execution_count": null,
   "id": "1375f670-2cad-4b7f-ba90-0bb46cce5eb9",
   "metadata": {},
   "outputs": [],
   "source": [
    "policy.pick_tree.visited_node"
   ]
  },
  {
   "cell_type": "code",
   "execution_count": null,
   "id": "16b94923-3f71-47ac-bf11-8019622acccf",
   "metadata": {},
   "outputs": [],
   "source": [
    "policy.drop_tree.visited_node"
   ]
  },
  {
   "cell_type": "code",
   "execution_count": null,
   "id": "9f0db335-7d92-4636-bde3-635a231304cc",
   "metadata": {},
   "outputs": [],
   "source": [
    "policy.drop_tree.winning_node"
   ]
  },
  {
   "cell_type": "code",
   "execution_count": null,
   "id": "033163c7-2cc8-4a14-a712-3a0f7124f2dd",
   "metadata": {},
   "outputs": [],
   "source": [
    "policy.drop_tree.winning_node.actions"
   ]
  },
  {
   "cell_type": "code",
   "execution_count": null,
   "id": "a49d4cb1-a659-47b8-b3dd-cd3fd99344d7",
   "metadata": {},
   "outputs": [],
   "source": [
    "print(policy.game_env.env.render())"
   ]
  },
  {
   "cell_type": "code",
   "execution_count": null,
   "id": "92d90fde-32f3-4d5f-93c2-237b97e2a032",
   "metadata": {},
   "outputs": [],
   "source": []
  }
 ],
 "metadata": {
  "kernelspec": {
   "display_name": "Python 3 (ipykernel)",
   "language": "python",
   "name": "python3"
  },
  "language_info": {
   "codemirror_mode": {
    "name": "ipython",
    "version": 3
   },
   "file_extension": ".py",
   "mimetype": "text/x-python",
   "name": "python",
   "nbconvert_exporter": "python",
   "pygments_lexer": "ipython3",
   "version": "3.11.0"
  }
 },
 "nbformat": 4,
 "nbformat_minor": 5
}
