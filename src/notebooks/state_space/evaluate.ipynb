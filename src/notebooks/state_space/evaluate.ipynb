{
 "cells": [
  {
   "cell_type": "code",
   "execution_count": 14,
   "id": "a996b5b6-66f3-44bd-b497-499084f40cd9",
   "metadata": {},
   "outputs": [],
   "source": [
    "import os; os.chdir(\"..\")\n",
    "import gymnasium as gym\n",
    "import numpy as np\n",
    "import matplotlib.pyplot as plt\n",
    "from typing import List, Tuple, Set\n",
    "from tqdm import tqdm\n",
    "from lib.formulas.q_learning import QLearning\n",
    "from lib.models.Action import Action\n",
    "from lib.models.GameStatus import GameStatus\n",
    "from lib.models.Passenger import Passenger\n",
    "from lib.models.Policies import Policies\n",
    "from lib.models.Taxi import Taxi\n",
    "from lib.policies.EpsilonGreedyPolicy import EpsilonGreedyPolicy\n",
    "from lib.policies.GreedyPolicy import GreedyPolicy\n",
    "from lib.policies.LegalSamplePolicy import LegalSamplePolicy\n",
    "from lib.policies.MonteCarloPolicy import MonteCarloPolicy\n",
    "from lib.policies.RandomSamplePolicy import RandomSamplePolicy"
   ]
  },
  {
   "cell_type": "code",
   "execution_count": 15,
   "id": "f1d6fb85-ed6a-442d-8f8f-4326e099241e",
   "metadata": {},
   "outputs": [],
   "source": [
    "NUM_EPISODES = 300\n",
    "SEED = np.random.randint(500)"
   ]
  },
  {
   "cell_type": "code",
   "execution_count": 16,
   "id": "6ab960ab-ef50-47e3-addb-eeba7a289875",
   "metadata": {},
   "outputs": [],
   "source": [
    "env = gym.make(\"Taxi-v3\", render_mode=\"ansi\")\n",
    "policy = GreedyPolicy(\n",
    "    game_env=env,\n",
    "    seed=SEED\n",
    ")"
   ]
  },
  {
   "cell_type": "code",
   "execution_count": 17,
   "id": "f767d7db-44e1-4d47-8a0d-26bcfd0c2cc4",
   "metadata": {},
   "outputs": [],
   "source": [
    "def run_one_episode(policy: Policies) -> Tuple[GameStatus, Set[int]]:\n",
    "    states = []\n",
    "    states.append(policy.game_env.state)\n",
    "    for _step in range(1, 200):\n",
    "        action = policy.next_action()\n",
    "        if action.game_status == GameStatus.TERMINATED:\n",
    "            return GameStatus.TERMINATED, states\n",
    "        if action.game_status == GameStatus.TRUNCATED:\n",
    "            return GameStatus.TRUNCATED, states\n",
    "        else:\n",
    "            states.append(policy.game_env.state)\n",
    "\n",
    "    return GameStatus.EXITED, states"
   ]
  },
  {
   "cell_type": "code",
   "execution_count": 18,
   "id": "b747ef0d-8fc7-4b84-95d3-66aab7c40999",
   "metadata": {},
   "outputs": [],
   "source": [
    "def aggregate_over_episodes(\n",
    "    policy: Policies,\n",
    "    num_episodes: int,\n",
    "    cumul: bool,\n",
    "    seed: int = None,\n",
    "    init_state: int = None,\n",
    ") -> Set[int]:\n",
    "    episodes = []\n",
    "    for _ in tqdm(range(1, num_episodes)):\n",
    "        policy.reset_hyperparameters(reset_env=True)\n",
    "        if init_state is not None:\n",
    "            policy.game_env.back_to(init_state)\n",
    "        _, states = run_one_episode(policy)\n",
    "        episodes += states\n",
    "\n",
    "    if cumul:\n",
    "        return episodes\n",
    "    else:\n",
    "        return set(episodes)"
   ]
  },
  {
   "cell_type": "code",
   "execution_count": 19,
   "id": "eeb7f4e0-8a60-4ecd-b132-c04f59ac8512",
   "metadata": {},
   "outputs": [
    {
     "name": "stderr",
     "output_type": "stream",
     "text": [
      "  0%|                                                            | 0/299 [00:00<?, ?it/s]\n"
     ]
    },
    {
     "ename": "TypeError",
     "evalue": "GreedyPolicy.next_action() missing 1 required positional argument: 'action'",
     "output_type": "error",
     "traceback": [
      "\u001b[0;31m---------------------------------------------------------------------------\u001b[0m",
      "\u001b[0;31mTypeError\u001b[0m                                 Traceback (most recent call last)",
      "Cell \u001b[0;32mIn[19], line 1\u001b[0m\n\u001b[0;32m----> 1\u001b[0m episodes \u001b[38;5;241m=\u001b[39m \u001b[43maggregate_over_episodes\u001b[49m\u001b[43m(\u001b[49m\n\u001b[1;32m      2\u001b[0m \u001b[43m    \u001b[49m\u001b[43mpolicy\u001b[49m\u001b[43m,\u001b[49m\n\u001b[1;32m      3\u001b[0m \u001b[43m    \u001b[49m\u001b[43mnum_episodes\u001b[49m\u001b[38;5;241;43m=\u001b[39;49m\u001b[43mNUM_EPISODES\u001b[49m\u001b[43m,\u001b[49m\n\u001b[1;32m      4\u001b[0m \u001b[43m    \u001b[49m\u001b[43mcumul\u001b[49m\u001b[38;5;241;43m=\u001b[39;49m\u001b[38;5;28;43;01mTrue\u001b[39;49;00m\n\u001b[1;32m      5\u001b[0m \u001b[43m)\u001b[49m\n",
      "Cell \u001b[0;32mIn[18], line 13\u001b[0m, in \u001b[0;36maggregate_over_episodes\u001b[0;34m(policy, num_episodes, cumul, seed, init_state)\u001b[0m\n\u001b[1;32m     11\u001b[0m     \u001b[38;5;28;01mif\u001b[39;00m init_state \u001b[38;5;129;01mis\u001b[39;00m \u001b[38;5;129;01mnot\u001b[39;00m \u001b[38;5;28;01mNone\u001b[39;00m:\n\u001b[1;32m     12\u001b[0m         policy\u001b[38;5;241m.\u001b[39mgame_env\u001b[38;5;241m.\u001b[39mback_to(init_state)\n\u001b[0;32m---> 13\u001b[0m     _, states \u001b[38;5;241m=\u001b[39m \u001b[43mrun_one_episode\u001b[49m\u001b[43m(\u001b[49m\u001b[43mpolicy\u001b[49m\u001b[43m)\u001b[49m\n\u001b[1;32m     14\u001b[0m     episodes \u001b[38;5;241m+\u001b[39m\u001b[38;5;241m=\u001b[39m states\n\u001b[1;32m     16\u001b[0m \u001b[38;5;28;01mif\u001b[39;00m cumul:\n",
      "Cell \u001b[0;32mIn[17], line 5\u001b[0m, in \u001b[0;36mrun_one_episode\u001b[0;34m(policy)\u001b[0m\n\u001b[1;32m      3\u001b[0m states\u001b[38;5;241m.\u001b[39mappend(policy\u001b[38;5;241m.\u001b[39mgame_env\u001b[38;5;241m.\u001b[39mstate)\n\u001b[1;32m      4\u001b[0m \u001b[38;5;28;01mfor\u001b[39;00m _step \u001b[38;5;129;01min\u001b[39;00m \u001b[38;5;28mrange\u001b[39m(\u001b[38;5;241m1\u001b[39m, \u001b[38;5;241m200\u001b[39m):\n\u001b[0;32m----> 5\u001b[0m     action \u001b[38;5;241m=\u001b[39m \u001b[43mpolicy\u001b[49m\u001b[38;5;241;43m.\u001b[39;49m\u001b[43mnext_action\u001b[49m\u001b[43m(\u001b[49m\u001b[43m)\u001b[49m\n\u001b[1;32m      6\u001b[0m     \u001b[38;5;28;01mif\u001b[39;00m action\u001b[38;5;241m.\u001b[39mgame_status \u001b[38;5;241m==\u001b[39m GameStatus\u001b[38;5;241m.\u001b[39mTERMINATED:\n\u001b[1;32m      7\u001b[0m         \u001b[38;5;28;01mreturn\u001b[39;00m GameStatus\u001b[38;5;241m.\u001b[39mTERMINATED, states\n",
      "\u001b[0;31mTypeError\u001b[0m: GreedyPolicy.next_action() missing 1 required positional argument: 'action'"
     ]
    }
   ],
   "source": [
    "episodes = aggregate_over_episodes(\n",
    "    policy,\n",
    "    num_episodes=NUM_EPISODES,\n",
    "    cumul=True\n",
    ")"
   ]
  },
  {
   "cell_type": "code",
   "execution_count": 20,
   "id": "c8be1259-7f04-4ec9-aa30-a8ade22074b7",
   "metadata": {},
   "outputs": [],
   "source": [
    "def convert_states_to_grid(states: Set[int] | List[int]):\n",
    "    coordinates = []\n",
    "    for state in states:\n",
    "        coordinates.append(Taxi.location(state))\n",
    "\n",
    "    return coordinates"
   ]
  },
  {
   "cell_type": "code",
   "execution_count": 9,
   "id": "9288b486-96a8-40f6-a16a-769741bb760b",
   "metadata": {},
   "outputs": [],
   "source": [
    "grids = convert_states_to_grid(episodes)"
   ]
  },
  {
   "cell_type": "code",
   "execution_count": 10,
   "id": "6ce887ea-7bbb-43ea-a46b-c9e6ba9c20cf",
   "metadata": {},
   "outputs": [],
   "source": [
    "def graph_states_explorations(\n",
    "    states: Set[int], \n",
    "    cumul: bool,\n",
    "    display_matrix: bool = False\n",
    "):\n",
    "    grid = np.zeros(500)\n",
    "    for state in states:\n",
    "        if cumul:\n",
    "            grid[state] += 1\n",
    "        else:\n",
    "            grid[state] = 1\n",
    "\n",
    "    grid = np.reshape(grid, (25, 20))\n",
    "    if display_matrix:\n",
    "        print(grid)\n",
    "    if cumul:\n",
    "        plt.imshow(grid, cmap=\"YlOrBr\")\n",
    "    else:\n",
    "        plt.matshow(grid)"
   ]
  },
  {
   "cell_type": "code",
   "execution_count": 11,
   "id": "515b44a4-0618-43d1-b9c7-c7df3ad6c555",
   "metadata": {},
   "outputs": [],
   "source": [
    "def graph_grid_explorations(\n",
    "    coords: List[Tuple[int, int]],\n",
    "    cumul: bool,\n",
    "    display_matrix: bool = False\n",
    "):\n",
    "    grid = np.zeros((5, 5))\n",
    "    for coord in coords:\n",
    "        if cumul:\n",
    "            grid[coord] += 1\n",
    "        else:\n",
    "            grid[coord] = 1\n",
    "    if display_matrix:\n",
    "        print(grid)\n",
    "    if cumul:\n",
    "        plt.imshow(grid, cmap=\"YlOrBr\")\n",
    "    else:\n",
    "        plt.matshow(grid)"
   ]
  },
  {
   "cell_type": "code",
   "execution_count": 12,
   "id": "00a500ca-8112-4611-b660-9dedd6f3057b",
   "metadata": {},
   "outputs": [
    {
     "name": "stdout",
     "output_type": "stream",
     "text": [
      "[[ 174.   14.   34.    0.    0.]\n",
      " [ 182.   90.  307.  216.    0.]\n",
      " [ 805.  785. 1156. 1140.    0.]\n",
      " [ 671.   46.   65.  405.    0.]\n",
      " [ 929.    0.    0.  299.    0.]]\n"
     ]
    },
    {
     "data": {
      "image/png": "[encoded data removed]",
      "text/plain": [
       "<Figure size 640x480 with 1 Axes>"
      ]
     },
     "metadata": {},
     "output_type": "display_data"
    }
   ],
   "source": [
    "graph_grid_explorations(grids, True, display_matrix=True)"
   ]
  },
  {
   "cell_type": "code",
   "execution_count": 13,
   "id": "8ec93b7c-6c84-476a-9b46-35a70526e8dd",
   "metadata": {},
   "outputs": [
    {
     "name": "stdout",
     "output_type": "stream",
     "text": [
      "[[  0.   0.   0.  55.   0.   0.   0.   0.   0.   0.   0.   0.   0.   0.\n",
      "    0.   0.   0.   0.   0. 119.]\n",
      " [  0.   0.   0.   0.   0.   0.   0.   0.   0.   0.   0.   0.   0.   0.\n",
      "    0.   0.   0.   0.   0.  14.]\n",
      " [  0.   0.   0.   0.   0.   0.   0.   0.   0.   0.   0.  34.   0.   0.\n",
      "    0.   0.   0.   0.   0.   0.]\n",
      " [  0.   0.   0.   0.   0.   0.   0.   0.   0.   0.   0.   0.   0.   0.\n",
      "    0.   0.   0.   0.   0.   0.]\n",
      " [  0.   0.   0.   0.   0.   0.   0.   0.   0.   0.   0.   0.   0.   0.\n",
      "    0.   0.   0.   0.   0.   0.]\n",
      " [  0.   0.   0.   0.   0.   0.   0.   0.   0.   0.   0.   0.   0.   0.\n",
      "    0.   0.   0.   0.   0. 182.]\n",
      " [  0.   0.   0.   0.   0.   0.   0.   0.   0.   0.   0.   0.   0.   0.\n",
      "    0.   0.   0.   0.   0.  90.]\n",
      " [  0.   0.   0.   0.   0.   0.   0.   0.   0.   0.   0. 307.   0.   0.\n",
      "    0.   0.   0.   0.   0.   0.]\n",
      " [  0.   0.   0.   0.   0.   0.   0.   0.   0.   0.   0. 216.   0.   0.\n",
      "    0.   0.   0.   0.   0.   0.]\n",
      " [  0.   0.   0.   0.   0.   0.   0.   0.   0.   0.   0.   0.   0.   0.\n",
      "    0.   0.   0.   0.   0.   0.]\n",
      " [  0.   0.   0.   0.   0.   0.   0.   0.   0.   0.   0. 299.   0.   0.\n",
      "    0.   0.   0.   0.   0. 506.]\n",
      " [  0.   0.   0.   0.   0.   0.   0.   0.   0.   0.   0. 299.   0.   0.\n",
      "    0.   0.   0.   0.   0. 486.]\n",
      " [  0.   0.   0.   0.   0.   0.   0.   0.   0.   0.   0. 857.   0.   0.\n",
      "    0.   0.   0.   0.   0. 299.]\n",
      " [  0.   0.   0.   0.   0.   0.   0.   0.   0.   0.   0. 841.   0.   0.\n",
      "    0.   0.   0.   0.   0. 299.]\n",
      " [  0.   0.   0.   0.   0.   0.   0.   0.   0.   0.   0.   0.   0.   0.\n",
      "    0.   0.   0.   0.   0.   0.]\n",
      " [  0.   0.   0.   0.   0.   0.   0.   0.   0.   0.   0. 299.   0.   0.\n",
      "    0.   0.   0.   0.   0. 372.]\n",
      " [  0.   0.   0.   0.   0.   0.   0.   0.   0.   0.   0.   0.   0.   0.\n",
      "    0.   0.   0.   0.   0.  46.]\n",
      " [  0.   0.   0.   0.   0.   0.   0.   0.   0.   0.   0.  65.   0.   0.\n",
      "    0.   0.   0.   0.   0.   0.]\n",
      " [  0.   0.   0.   0.   0.   0.   0.   0.   0.   0.   0. 106.   0.   0.\n",
      "    0.   0.   0.   0.   0. 299.]\n",
      " [  0.   0.   0.   0.   0.   0.   0.   0.   0.   0.   0.   0.   0.   0.\n",
      "    0.   0.   0.   0.   0.   0.]\n",
      " [  0.   0.   0.   0.   0.   0.   0.   0.   0.   0.   0. 440.   0.   0.\n",
      "    0.   0.   0.   0.   0. 489.]\n",
      " [  0.   0.   0.   0.   0.   0.   0.   0.   0.   0.   0.   0.   0.   0.\n",
      "    0.   0.   0.   0.   0.   0.]\n",
      " [  0.   0.   0.   0.   0.   0.   0.   0.   0.   0.   0.   0.   0.   0.\n",
      "    0.   0.   0.   0.   0.   0.]\n",
      " [  0.   0.   0.   0.   0.   0.   0.   0.   0.   0.   0.   0.   0.   0.\n",
      "    0.   0.   0.   0.   0. 299.]\n",
      " [  0.   0.   0.   0.   0.   0.   0.   0.   0.   0.   0.   0.   0.   0.\n",
      "    0.   0.   0.   0.   0.   0.]]\n"
     ]
    },
    {
     "data": {
      "image/png": "[encoded data removed]",
      "text/plain": [
       "<Figure size 640x480 with 1 Axes>"
      ]
     },
     "metadata": {},
     "output_type": "display_data"
    }
   ],
   "source": [
    "graph_states_explorations(episodes, True, display_matrix=True)"
   ]
  }
 ],
 "metadata": {
  "kernelspec": {
   "display_name": "Python 3 (ipykernel)",
   "language": "python",
   "name": "python3"
  },
  "language_info": {
   "codemirror_mode": {
    "name": "ipython",
    "version": 3
   },
   "file_extension": ".py",
   "mimetype": "text/x-python",
   "name": "python",
   "nbconvert_exporter": "python",
   "pygments_lexer": "ipython3",
   "version": "3.11.0"
  }
 },
 "nbformat": 4,
 "nbformat_minor": 5
}
