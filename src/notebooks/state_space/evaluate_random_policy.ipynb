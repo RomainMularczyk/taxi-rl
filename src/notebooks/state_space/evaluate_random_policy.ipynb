{
 "cells": [
  {
   "cell_type": "code",
   "execution_count": 1,
   "id": "0855719d-8bd7-44f8-ae6f-3531cc2b1cb1",
   "metadata": {},
   "outputs": [
    {
     "name": "stdout",
     "output_type": "stream",
     "text": [
      "/Users/romainm/Desktop/SciencesPo/Doctorat/Epitech\n"
     ]
    },
    {
     "ename": "ModuleNotFoundError",
     "evalue": "No module named 'lib'",
     "output_type": "error",
     "traceback": [
      "\u001b[0;31m---------------------------------------------------------------------------\u001b[0m",
      "\u001b[0;31mModuleNotFoundError\u001b[0m                       Traceback (most recent call last)",
      "Cell \u001b[0;32mIn[1], line 9\u001b[0m\n\u001b[1;32m      7\u001b[0m \u001b[38;5;28;01mfrom\u001b[39;00m \u001b[38;5;21;01mtyping\u001b[39;00m \u001b[38;5;28;01mimport\u001b[39;00m List, Tuple, Set\n\u001b[1;32m      8\u001b[0m \u001b[38;5;28;01mfrom\u001b[39;00m \u001b[38;5;21;01mtqdm\u001b[39;00m \u001b[38;5;28;01mimport\u001b[39;00m tqdm\n\u001b[0;32m----> 9\u001b[0m \u001b[38;5;28;01mfrom\u001b[39;00m \u001b[38;5;21;01mlib\u001b[39;00m\u001b[38;5;21;01m.\u001b[39;00m\u001b[38;5;21;01mformulas\u001b[39;00m\u001b[38;5;21;01m.\u001b[39;00m\u001b[38;5;21;01mq_learning\u001b[39;00m \u001b[38;5;28;01mimport\u001b[39;00m QLearning\n\u001b[1;32m     10\u001b[0m \u001b[38;5;28;01mfrom\u001b[39;00m \u001b[38;5;21;01mlib\u001b[39;00m\u001b[38;5;21;01m.\u001b[39;00m\u001b[38;5;21;01mmodels\u001b[39;00m\u001b[38;5;21;01m.\u001b[39;00m\u001b[38;5;21;01mAction\u001b[39;00m \u001b[38;5;28;01mimport\u001b[39;00m Action\n\u001b[1;32m     11\u001b[0m \u001b[38;5;28;01mfrom\u001b[39;00m \u001b[38;5;21;01mlib\u001b[39;00m\u001b[38;5;21;01m.\u001b[39;00m\u001b[38;5;21;01mmodels\u001b[39;00m\u001b[38;5;21;01m.\u001b[39;00m\u001b[38;5;21;01mGameStatus\u001b[39;00m \u001b[38;5;28;01mimport\u001b[39;00m GameStatus\n",
      "\u001b[0;31mModuleNotFoundError\u001b[0m: No module named 'lib'"
     ]
    }
   ],
   "source": [
    "import os; os.chdir(\"../..\")\n",
    "os.chdir(\"/Users/romainm/Desktop/SciencesPo/Doctorat/Epitech/\")\n",
    "print(os.getcwd())\n",
    "import gymnasium as gym\n",
    "import numpy as np\n",
    "import matplotlib.pyplot as plt\n",
    "from typing import List, Tuple, Set\n",
    "from tqdm import tqdm\n",
    "from lib.formulas.q_learning import QLearning\n",
    "from lib.models.Action import Action\n",
    "from lib.models.GameStatus import GameStatus\n",
    "from lib.models.Passenger import Passenger\n",
    "from lib.models.Policies import Policies\n",
    "from lib.models.Taxi import Taxi\n",
    "from lib.policies.RandomSamplePolicy import RandomSamplePolicy"
   ]
  },
  {
   "cell_type": "code",
   "execution_count": 3,
   "id": "0505cdd2-b024-4f41-a27a-73667aeeee03",
   "metadata": {},
   "outputs": [
    {
     "ename": "NameError",
     "evalue": "name 'Policies' is not defined",
     "output_type": "error",
     "traceback": [
      "\u001b[0;31m---------------------------------------------------------------------------\u001b[0m",
      "\u001b[0;31mNameError\u001b[0m                                 Traceback (most recent call last)",
      "Cell \u001b[0;32mIn[3], line 1\u001b[0m\n\u001b[0;32m----> 1\u001b[0m \u001b[38;5;28;01mdef\u001b[39;00m \u001b[38;5;21mrun_one_episode\u001b[39m(policy: \u001b[43mPolicies\u001b[49m) \u001b[38;5;241m-\u001b[39m\u001b[38;5;241m>\u001b[39m Tuple[GameStatus, Set[\u001b[38;5;28mint\u001b[39m]]:\n\u001b[1;32m      2\u001b[0m     states \u001b[38;5;241m=\u001b[39m []\n\u001b[1;32m      3\u001b[0m     states\u001b[38;5;241m.\u001b[39mappend(policy\u001b[38;5;241m.\u001b[39mgame_env\u001b[38;5;241m.\u001b[39mstate)\n",
      "\u001b[0;31mNameError\u001b[0m: name 'Policies' is not defined"
     ]
    }
   ],
   "source": [
    "def run_one_episode(policy: Policies) -> Tuple[GameStatus, Set[int]]:\n",
    "    states = []\n",
    "    states.append(policy.game_env.state)\n",
    "    for _step in range(1, 200):\n",
    "        action = policy.next_action()\n",
    "        if action.game_status == GameStatus.TERMINATED:\n",
    "            return GameStatus.TERMINATED, states\n",
    "        if action.game_status == GameStatus.TRUNCATED:\n",
    "            return GameStatus.TRUNCATED, states\n",
    "        else:\n",
    "            states.append(policy.game_env.state)\n",
    "\n",
    "    return GameStatus.EXITED, states"
   ]
  },
  {
   "cell_type": "code",
   "execution_count": null,
   "id": "c7c8fb23-659a-4afb-a97b-323f31c055e8",
   "metadata": {},
   "outputs": [],
   "source": []
  }
 ],
 "metadata": {
  "kernelspec": {
   "display_name": "Python 3 (ipykernel)",
   "language": "python",
   "name": "python3"
  },
  "language_info": {
   "codemirror_mode": {
    "name": "ipython",
    "version": 3
   },
   "file_extension": ".py",
   "mimetype": "text/x-python",
   "name": "python",
   "nbconvert_exporter": "python",
   "pygments_lexer": "ipython3",
   "version": "3.11.0"
  }
 },
 "nbformat": 4,
 "nbformat_minor": 5
}
